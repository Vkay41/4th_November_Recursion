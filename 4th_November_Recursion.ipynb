{
 "cells": [
  {
   "cell_type": "code",
   "execution_count": 7,
   "id": "9de9b35a-19e8-4ac5-ba74-e2af51bdc51d",
   "metadata": {},
   "outputs": [],
   "source": [
    "#Recursion_Assignment"
   ]
  },
  {
   "cell_type": "markdown",
   "id": "bdd9cd8d-6379-4dcb-ac38-7d7f88323adf",
   "metadata": {},
   "source": [
    "#Q1 :  Can you explain the logic and working of the Tower of Hanoi algorithm by writing a Java program? \n",
    "\n",
    "How does the recursion work, and how are the movements of disks between rods accomplished?"
   ]
  },
  {
   "cell_type": "code",
   "execution_count": 2,
   "id": "05a83c91-685a-401b-bb87-f012e1053f0d",
   "metadata": {},
   "outputs": [
    {
     "name": "stdin",
     "output_type": "stream",
     "text": [
      "Enter the number of disks:  3\n"
     ]
    },
    {
     "name": "stdout",
     "output_type": "stream",
     "text": [
      "Move disk 1 from rod A to rod C.\n",
      "Move disk 2 from rod A to rod B.\n",
      "Move disk 1 from rod C to rod B.\n",
      "Move disk 3 from rod A to rod C.\n",
      "Move disk 1 from rod B to rod A.\n",
      "Move disk 2 from rod B to rod C.\n",
      "Move disk 1 from rod A to rod C.\n"
     ]
    }
   ],
   "source": [
    " def tower_of_hanoi(disks, source, auxiliary, target):  \n",
    "    if(disks == 1):  \n",
    "        print('Move disk 1 from rod {} to rod {}.'.format(source, target))  \n",
    "        return  \n",
    "    tower_of_hanoi(disks - 1, source, target, auxiliary)  \n",
    "    print('Move disk {} from rod {} to rod {}.'.format(disks, source, target))  \n",
    "    tower_of_hanoi(disks - 1, auxiliary, source, target)  \n",
    "  \n",
    "  \n",
    "disks = int(input('Enter the number of disks: '))  \n",
    "tower_of_hanoi(disks, 'A', 'B', 'C')  "
   ]
  },
  {
   "cell_type": "markdown",
   "id": "9a834681-cea9-4b89-ab23-8e36efd41bbb",
   "metadata": {},
   "source": [
    "1)  Create a tower_of_hanoi recursive function and pass two arguments: the number of disks n and the name of the rods such as source, aux, and target.\n",
    "\n",
    "2) We can define the base case when the number of disks is 1. In this case, simply move the one disk from the source to target and return.\n",
    "\n",
    "3) Now, move remaining n-1 disks from source to auxiliary using the target as the auxiliary.\n",
    "\n",
    "4) Then, the remaining 1 disk move on the source to target.\n",
    "\n",
    "5) Move the n-1 disks on the auxiliary to the target using the source as the auxiliary\n"
   ]
  },
  {
   "cell_type": "markdown",
   "id": "cb32fbd2-838f-4327-bd64-17e88d2d0b9e",
   "metadata": {},
   "source": [
    "#Q2 : Given two strings word1 and word2, return the minimum number of operations required to convert word1 to word2"
   ]
  },
  {
   "cell_type": "code",
   "execution_count": 3,
   "id": "b29d1a0e-1b47-4ddb-b0d4-c92a7521feea",
   "metadata": {},
   "outputs": [
    {
     "name": "stdin",
     "output_type": "stream",
     "text": [
      "Enter your first string :  horse\n",
      "Enter your second string :  ros\n"
     ]
    },
    {
     "data": {
      "text/plain": [
       "3"
      ]
     },
     "execution_count": 3,
     "metadata": {},
     "output_type": "execute_result"
    }
   ],
   "source": [
    "def editDistanceHelper(i, j, str1, str2):\n",
    " \n",
    "    if i == 0:\n",
    " \n",
    "        return j\n",
    " \n",
    "    if j == 0:\n",
    " \n",
    "        return i\n",
    " \n",
    "    ans = 1 + min(\n",
    "        {\n",
    "            editDistanceHelper(i, j - 1, str1, str2),  # Insert\n",
    "            editDistanceHelper(i - 1, j, str1, str2),  # Remove\n",
    "            editDistanceHelper(i - 1, j - 1, str1, str2),  # Replace\n",
    "        }\n",
    "    )\n",
    " \n",
    "    if str1[i - 1] == str2[j - 1]:\n",
    "        ans = min(ans, editDistanceHelper(i - 1, j - 1, str1, str2))\n",
    " \n",
    "    return ans\n",
    " \n",
    "\n",
    "def editDistance(str1, str2):\n",
    "    n = len(str1)\n",
    "    m = len(str2)\n",
    "    ans = editDistanceHelper(n, m, str1, str2)\n",
    " \n",
    "    return ans\n",
    "\n",
    "\n",
    "\n",
    "\n",
    "str1=str(input(\"Enter your first string : \"))     \n",
    "str2=str(input(\"Enter your second string : \")) \n",
    "editDistance(str1, str2)"
   ]
  },
  {
   "cell_type": "markdown",
   "id": "2e939f0a-0cd8-4629-b0af-842553a08d7f",
   "metadata": {},
   "source": [
    "1)  Consider two pointers i and j pointing the given string A and B.\n",
    "\n",
    "2) If the current character, pointing in both the strings are same, then no changes are to be made. Therefore, recurse for lengths i + 1 and j + 1.\n",
    "\n",
    "3) Otherwise, try to apply the free operations provided.\n",
    "\n",
    "i)Each of the given operations would cause 1 units.\n",
    "\n",
    "ii) The character pointer i points to is A[i] and pointer j is B[j].\n",
    "\n",
    "iii) Therefore, F(i, j ) is the edit distance of A(0,i) and B(0, j).\n",
    "\n",
    "iv) For insertion: Recurse i – 1 to j.\n",
    "\n",
    "v) For deletion: Recurse i to j – 1.\n",
    "\n",
    "vi) For replacement: Recurse i – 1 to j – 1.\n",
    "\n",
    "4) After applying all the operations, f(i, j) = 1  + min(f(i – 1, j), f(i, j – 1), f(i – 1, j – 1)).\n"
   ]
  },
  {
   "cell_type": "markdown",
   "id": "440e2b0a-2207-4266-8698-b30df05b34a2",
   "metadata": {},
   "source": [
    "#Q3 : Print the max value of the array [ 13, 1, -3, 22, 5]."
   ]
  },
  {
   "cell_type": "code",
   "execution_count": 4,
   "id": "723fd79b-f912-4214-b8ad-15eac2d094a9",
   "metadata": {},
   "outputs": [
    {
     "name": "stdout",
     "output_type": "stream",
     "text": [
      "22\n"
     ]
    }
   ],
   "source": [
    "def findMaxRec(A, n):\n",
    "    if (n == 1):\n",
    "        return A[0]\n",
    "    return max(A[n - 1], findMaxRec(A, n - 1))\n",
    " \n",
    "\n",
    "A = [ 13, 1, -3, 22, 5]\n",
    "n = len(A)\n",
    "print(findMaxRec(A, n))"
   ]
  },
  {
   "cell_type": "markdown",
   "id": "db7e22aa-99c3-418a-84aa-d880cfcbb19a",
   "metadata": {},
   "source": [
    "1) Define a function dinfMaxRec() which takes input array “A” and it’s length “n” as arguments.\n",
    "\n",
    "2) Check if the length of the input array “A” is 1. if true return the first element of the input array.\n",
    "\n",
    "3) Else recursively call the findMaxRec() function and return the Largest of A[n-1] and findMaxRec(A,n-1) using max() function.\n",
    "\n",
    "4) Initialize variables and call the findMaxRec() function from the driver code.\n",
    "\n",
    "5) Print using the print() function."
   ]
  },
  {
   "cell_type": "code",
   "execution_count": null,
   "id": "ff223a15-49ef-4164-a6d5-a753c3c41db4",
   "metadata": {},
   "outputs": [],
   "source": [
    "#Q4 :  Find the sum of the values of the array [92, 23, 15, -20, 10]."
   ]
  },
  {
   "cell_type": "code",
   "execution_count": 5,
   "id": "5a4f080d-e889-4fe2-99e4-c8c6c1e6967a",
   "metadata": {},
   "outputs": [
    {
     "name": "stdout",
     "output_type": "stream",
     "text": [
      "38\n"
     ]
    }
   ],
   "source": [
    "def _findSum(arr, N): \n",
    "    if N <= 0: \n",
    "        return 0\n",
    "    else: \n",
    "        return _findSum(arr, N - 1) + arr[N - 1] \n",
    "\n",
    "     \n",
    "A = [ 13, 1, -3, 22, 5]\n",
    "n = len(A)\n",
    "print(_findSum(A, n))"
   ]
  },
  {
   "cell_type": "markdown",
   "id": "6bcfef29-031d-4d85-a808-15c505d080bf",
   "metadata": {},
   "source": [
    "1) Define a function _findSum() which takes input array “arr” and it’s length “N” as arguments.\n",
    "\n",
    "2) Check if the length of the input array “A” is less that 1. if true return 0.\n",
    "\n",
    "3) Else recursively call the _findSum() function and return the sum with arr[N - 1] \n",
    "\n",
    "4) In last the sum of the list should be printed."
   ]
  },
  {
   "cell_type": "markdown",
   "id": "7c003330-52ca-43d7-9e81-80cf3cd785bc",
   "metadata": {},
   "source": [
    "#Q5 :  Given a number n. Print if it is an armstrong number or not.An armstrong number is a number if the sum\n",
    "of every digit in that number raised to the power of total digits in that number is equal to the number."
   ]
  },
  {
   "cell_type": "code",
   "execution_count": 6,
   "id": "216b7e9f-62ee-4876-83aa-b90074c93d5e",
   "metadata": {},
   "outputs": [
    {
     "name": "stdin",
     "output_type": "stream",
     "text": [
      "Enter a number:  153\n"
     ]
    },
    {
     "name": "stdout",
     "output_type": "stream",
     "text": [
      "153 is an Armstrong number\n"
     ]
    }
   ],
   "source": [
    "def check_armstrong(num,n1,sum,temp):\n",
    "    if temp==0:\n",
    "        if sum==num:\n",
    "            return True\n",
    "        else:\n",
    "            return False\n",
    "    digit = temp % 10\n",
    "    sum = sum + digit**n1\n",
    "    temp = temp//10\n",
    "    return check_armstrong(num, n1, sum, temp)\n",
    "num = int(input(\"Enter a number: \"))\n",
    "sum = 0\n",
    "n1 = len(str(num))\n",
    "temp = num\n",
    "res = check_armstrong(num,n1,sum,temp)\n",
    "if res:\n",
    "    print(num,\"is an Armstrong number\")\n",
    "else:\n",
    "    print(num,\"is not an Armstrong number\")"
   ]
  },
  {
   "cell_type": "markdown",
   "id": "2e493ad2-da2a-46e1-87c2-387da876e6bf",
   "metadata": {},
   "source": [
    "1)  Take input of integer in num, initialize sum =0, n1 = len(num), and temp equal to num.\n",
    "\n",
    "2) Make one function check_armstrong to check if the number is armstrong or not and pass 4 parameters num, n1, sum and temp.\n",
    "\n",
    "3) In function perform the following steps:\n",
    "\n",
    "         a) Check the base condition if temp==0. Then,\n",
    "\n",
    "                   i) If sum == num return True\n",
    "\n",
    "                   ii) Else return False\n",
    "\n",
    "         b) Initialize digit with value temp%10\n",
    "\n",
    "         c) Add digit**n1 in sum.\n",
    "\n",
    "         d) Update the value of temp to temp//10.\n",
    "\n",
    "         e) Atlast return the function call with num, n1, sum, temp as parameters."
   ]
  }
 ],
 "metadata": {
  "kernelspec": {
   "display_name": "Python 3 (ipykernel)",
   "language": "python",
   "name": "python3"
  },
  "language_info": {
   "codemirror_mode": {
    "name": "ipython",
    "version": 3
   },
   "file_extension": ".py",
   "mimetype": "text/x-python",
   "name": "python",
   "nbconvert_exporter": "python",
   "pygments_lexer": "ipython3",
   "version": "3.10.8"
  }
 },
 "nbformat": 4,
 "nbformat_minor": 5
}
